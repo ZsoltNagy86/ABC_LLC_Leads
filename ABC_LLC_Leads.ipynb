{
 "cells": [
  {
   "cell_type": "markdown",
   "metadata": {},
   "source": [
    "# <span style=\"color:darkslategray\">ABC LLC - Leads for Health Insurance Services </span>"
   ]
  },
  {
   "cell_type": "markdown",
   "metadata": {},
   "source": [
    "### <span style=\"color:dimgray\">Importing packages</span>"
   ]
  },
  {
   "cell_type": "code",
   "execution_count": 3,
   "metadata": {},
   "outputs": [],
   "source": [
    "# Importing general packages\n",
    "import pandas as pd\n",
    "import dfply\n",
    "\n",
    "from dfply import *\n",
    "import numpy as np\n",
    "\n",
    "# Importing packages for vizualization\n",
    "import matplotlib.pyplot as plt\n",
    "import matplotlib.cm as cm\n",
    "import matplotlib.colors as colors\n",
    "%matplotlib inline\n",
    "import seaborn as sns"
   ]
  },
  {
   "cell_type": "markdown",
   "metadata": {},
   "source": [
    "### <span style=\"color:dimgray\">Loading data</span>"
   ]
  },
  {
   "cell_type": "markdown",
   "metadata": {},
   "source": [
    "<b>Features of df_bids:</b><br/>\n",
    "● created: time of the bid<br />\n",
    "● leadID: unique ID of lead<br />\n",
    "● max_bid: bid offered by Abc LLC for that particular lead<br />\n",
    "● won: 1 if their bid was the highest and they won the bid, 0 otherwise"
   ]
  },
  {
   "cell_type": "code",
   "execution_count": null,
   "metadata": {},
   "outputs": [],
   "source": [
    "# Reading Bids csv file\n",
    "df_bids = pd.read_csv('C:/Users/ZsoltNagy/Desktop/github_projects/ABC_LLC_Leads_Boberdoo/ABC_LLC_Leads/Data/bids_hw.csv')\n",
    "df_bids.head(5)"
   ]
  },
  {
   "cell_type": "markdown",
   "metadata": {},
   "source": [
    "<b>Features of df_leads:</b><br />\n",
    "● leadID: unique ID of the lead<br />\n",
    "● state_18: the state where the lead lives in<br />\n",
    "● gender_18: lead's gender, which is 1 if male, and 2 if female<br />\n",
    "● estimated_household_income_18: this is the lead's estimation of their own household income per year in dollars <br />\n",
    "● cpa_status_18: 1 for closed leads, 0 for lost leads<br />\n",
    "● premium_amount_18: value of the contract signed, to be paid monthly in dollars<br />"
   ]
  },
  {
   "cell_type": "code",
   "execution_count": 6,
   "metadata": {},
   "outputs": [
    {
     "name": "stdout",
     "output_type": "stream",
     "text": [
      "   Unnamed: 0              created  leadID  max_bid  won\n",
      "0           1  2017-12-22 16:08:21       4     22.0    1\n",
      "1           2  2018-01-18 16:18:19      30      4.0    1\n",
      "2           3  2018-01-22 16:08:57     120      5.0    1\n",
      "3           4  2018-01-23 17:28:09     258      5.0    1\n",
      "4           5  2018-01-23 18:16:10     266      6.0    1\n",
      "   Unnamed: 0  leadID state_18  gender_18  age_18  \\\n",
      "0           1       4       IL          1   37.00   \n",
      "1           2      30       NY          2   43.35   \n",
      "2           3     120       NY          1   32.96   \n",
      "3           4     258       NY          1   34.82   \n",
      "4           5     266       NY          2   40.35   \n",
      "\n",
      "   estimated_household_income_18  cpa_status_18  premium_amount_18  \n",
      "0                          45000            1.0                700  \n",
      "1                          65000            0.0                  0  \n",
      "2                          90000            0.0                  0  \n",
      "3                          65000            0.0                  0  \n",
      "4                          65000            0.0                  0  \n"
     ]
    }
   ],
   "source": [
    "# Reading Leads csv file\n",
    "df_leads = pd.read_csv('C:/Users/ZsoltNagy/Desktop/github_projects/ABC_LLC_Leads_Boberdoo/ABC_LLC_Leads/Data/leads_hw.csv')\n",
    "df_leads.head(5)"
   ]
  }
 ],
 "metadata": {
  "kernelspec": {
   "display_name": "Python 3",
   "language": "python",
   "name": "python3"
  },
  "language_info": {
   "codemirror_mode": {
    "name": "ipython",
    "version": 3
   },
   "file_extension": ".py",
   "mimetype": "text/x-python",
   "name": "python",
   "nbconvert_exporter": "python",
   "pygments_lexer": "ipython3",
   "version": "3.7.1"
  }
 },
 "nbformat": 4,
 "nbformat_minor": 2
}
