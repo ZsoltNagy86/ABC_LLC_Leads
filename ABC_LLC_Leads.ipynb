{
 "cells": [
  {
   "cell_type": "markdown",
   "metadata": {},
   "source": [
    "# <span style=\"color:darkslategray\">ABC LLC - Leads for Health Insurance Services </span>"
   ]
  },
  {
   "cell_type": "markdown",
   "metadata": {},
   "source": [
    "### <span style=\"color:dimgray\">Importing packages</span>"
   ]
  },
  {
   "cell_type": "code",
   "execution_count": 1,
   "metadata": {},
   "outputs": [],
   "source": [
    "# Importing general packages\n",
    "import pandas as pd\n",
    "import dfply\n",
    "\n",
    "from dfply import *\n",
    "import numpy as np\n",
    "\n",
    "# Importing packages for vizualization\n",
    "import matplotlib.pyplot as plt\n",
    "import matplotlib.cm as cm\n",
    "import matplotlib.colors as colors\n",
    "%matplotlib inline\n",
    "import seaborn as sns"
   ]
  },
  {
   "cell_type": "markdown",
   "metadata": {},
   "source": [
    "### <span style=\"color:dimgray\">Loading data</span>"
   ]
  },
  {
   "cell_type": "markdown",
   "metadata": {},
   "source": [
    "<b>Features of df_bids:</b><br/>\n",
    "● created: time of the bid<br />\n",
    "● leadID: unique ID of lead<br />\n",
    "● max_bid: bid offered by Abc LLC for that particular lead<br />\n",
    "● won: 1 if their bid was the highest and they won the bid, 0 otherwise"
   ]
  },
  {
   "cell_type": "code",
   "execution_count": 2,
   "metadata": {},
   "outputs": [
    {
     "name": "stderr",
     "output_type": "stream",
     "text": [
      "C:\\Users\\ZsoltNagy\\Anaconda3\\lib\\site-packages\\numpy\\lib\\arraysetops.py:522: FutureWarning: elementwise comparison failed; returning scalar instead, but in the future will perform elementwise comparison\n",
      "  mask |= (ar1 == a)\n"
     ]
    },
    {
     "data": {
      "text/html": [
       "<div>\n",
       "<style scoped>\n",
       "    .dataframe tbody tr th:only-of-type {\n",
       "        vertical-align: middle;\n",
       "    }\n",
       "\n",
       "    .dataframe tbody tr th {\n",
       "        vertical-align: top;\n",
       "    }\n",
       "\n",
       "    .dataframe thead th {\n",
       "        text-align: right;\n",
       "    }\n",
       "</style>\n",
       "<table border=\"1\" class=\"dataframe\">\n",
       "  <thead>\n",
       "    <tr style=\"text-align: right;\">\n",
       "      <th></th>\n",
       "      <th>created</th>\n",
       "      <th>leadID</th>\n",
       "      <th>max_bid</th>\n",
       "      <th>won</th>\n",
       "    </tr>\n",
       "  </thead>\n",
       "  <tbody>\n",
       "    <tr>\n",
       "      <th>1</th>\n",
       "      <td>2017-12-22 16:08:21</td>\n",
       "      <td>4</td>\n",
       "      <td>22.0</td>\n",
       "      <td>1</td>\n",
       "    </tr>\n",
       "    <tr>\n",
       "      <th>2</th>\n",
       "      <td>2018-01-18 16:18:19</td>\n",
       "      <td>30</td>\n",
       "      <td>4.0</td>\n",
       "      <td>1</td>\n",
       "    </tr>\n",
       "    <tr>\n",
       "      <th>3</th>\n",
       "      <td>2018-01-22 16:08:57</td>\n",
       "      <td>120</td>\n",
       "      <td>5.0</td>\n",
       "      <td>1</td>\n",
       "    </tr>\n",
       "    <tr>\n",
       "      <th>4</th>\n",
       "      <td>2018-01-23 17:28:09</td>\n",
       "      <td>258</td>\n",
       "      <td>5.0</td>\n",
       "      <td>1</td>\n",
       "    </tr>\n",
       "    <tr>\n",
       "      <th>5</th>\n",
       "      <td>2018-01-23 18:16:10</td>\n",
       "      <td>266</td>\n",
       "      <td>6.0</td>\n",
       "      <td>1</td>\n",
       "    </tr>\n",
       "  </tbody>\n",
       "</table>\n",
       "</div>"
      ],
      "text/plain": [
       "               created  leadID  max_bid  won\n",
       "1  2017-12-22 16:08:21       4     22.0    1\n",
       "2  2018-01-18 16:18:19      30      4.0    1\n",
       "3  2018-01-22 16:08:57     120      5.0    1\n",
       "4  2018-01-23 17:28:09     258      5.0    1\n",
       "5  2018-01-23 18:16:10     266      6.0    1"
      ]
     },
     "execution_count": 2,
     "metadata": {},
     "output_type": "execute_result"
    }
   ],
   "source": [
    "# Reading Bids csv file\n",
    "df_bids = pd.read_csv('C:/Users/ZsoltNagy/Desktop/github_projects/ABC_LLC_Leads_Boberdoo/ABC_LLC_Leads/Data/bids_hw.csv', index_col=0)\n",
    "df_bids.head(5)"
   ]
  },
  {
   "cell_type": "markdown",
   "metadata": {},
   "source": [
    "<b>Features of df_leads:</b><br />\n",
    "● leadID: unique ID of the lead<br />\n",
    "● state_18: the state where the lead lives in<br />\n",
    "● gender_18: lead's gender, which is 1 if male, and 2 if female<br />\n",
    "● estimated_household_income_18: this is the lead's estimation of their own household income per year in dollars <br />\n",
    "● cpa_status_18: 1 for closed leads, 0 for lost leads<br />\n",
    "● premium_amount_18: value of the contract signed, to be paid monthly in dollars<br />"
   ]
  },
  {
   "cell_type": "code",
   "execution_count": 3,
   "metadata": {},
   "outputs": [
    {
     "data": {
      "text/html": [
       "<div>\n",
       "<style scoped>\n",
       "    .dataframe tbody tr th:only-of-type {\n",
       "        vertical-align: middle;\n",
       "    }\n",
       "\n",
       "    .dataframe tbody tr th {\n",
       "        vertical-align: top;\n",
       "    }\n",
       "\n",
       "    .dataframe thead th {\n",
       "        text-align: right;\n",
       "    }\n",
       "</style>\n",
       "<table border=\"1\" class=\"dataframe\">\n",
       "  <thead>\n",
       "    <tr style=\"text-align: right;\">\n",
       "      <th></th>\n",
       "      <th>leadID</th>\n",
       "      <th>state_18</th>\n",
       "      <th>gender_18</th>\n",
       "      <th>age_18</th>\n",
       "      <th>estimated_household_income_18</th>\n",
       "      <th>cpa_status_18</th>\n",
       "      <th>premium_amount_18</th>\n",
       "    </tr>\n",
       "  </thead>\n",
       "  <tbody>\n",
       "    <tr>\n",
       "      <th>1</th>\n",
       "      <td>4</td>\n",
       "      <td>IL</td>\n",
       "      <td>1</td>\n",
       "      <td>37.00</td>\n",
       "      <td>45000</td>\n",
       "      <td>1.0</td>\n",
       "      <td>700</td>\n",
       "    </tr>\n",
       "    <tr>\n",
       "      <th>2</th>\n",
       "      <td>30</td>\n",
       "      <td>NY</td>\n",
       "      <td>2</td>\n",
       "      <td>43.35</td>\n",
       "      <td>65000</td>\n",
       "      <td>0.0</td>\n",
       "      <td>0</td>\n",
       "    </tr>\n",
       "    <tr>\n",
       "      <th>3</th>\n",
       "      <td>120</td>\n",
       "      <td>NY</td>\n",
       "      <td>1</td>\n",
       "      <td>32.96</td>\n",
       "      <td>90000</td>\n",
       "      <td>0.0</td>\n",
       "      <td>0</td>\n",
       "    </tr>\n",
       "    <tr>\n",
       "      <th>4</th>\n",
       "      <td>258</td>\n",
       "      <td>NY</td>\n",
       "      <td>1</td>\n",
       "      <td>34.82</td>\n",
       "      <td>65000</td>\n",
       "      <td>0.0</td>\n",
       "      <td>0</td>\n",
       "    </tr>\n",
       "    <tr>\n",
       "      <th>5</th>\n",
       "      <td>266</td>\n",
       "      <td>NY</td>\n",
       "      <td>2</td>\n",
       "      <td>40.35</td>\n",
       "      <td>65000</td>\n",
       "      <td>0.0</td>\n",
       "      <td>0</td>\n",
       "    </tr>\n",
       "  </tbody>\n",
       "</table>\n",
       "</div>"
      ],
      "text/plain": [
       "   leadID state_18  gender_18  age_18  estimated_household_income_18  \\\n",
       "1       4       IL          1   37.00                          45000   \n",
       "2      30       NY          2   43.35                          65000   \n",
       "3     120       NY          1   32.96                          90000   \n",
       "4     258       NY          1   34.82                          65000   \n",
       "5     266       NY          2   40.35                          65000   \n",
       "\n",
       "   cpa_status_18  premium_amount_18  \n",
       "1            1.0                700  \n",
       "2            0.0                  0  \n",
       "3            0.0                  0  \n",
       "4            0.0                  0  \n",
       "5            0.0                  0  "
      ]
     },
     "execution_count": 3,
     "metadata": {},
     "output_type": "execute_result"
    }
   ],
   "source": [
    "# Reading Leads csv file\n",
    "df_leads = pd.read_csv('C:/Users/ZsoltNagy/Desktop/github_projects/ABC_LLC_Leads_Boberdoo/ABC_LLC_Leads/Data/leads_hw.csv', index_col=0)\n",
    "df_leads.head(5)"
   ]
  },
  {
   "cell_type": "markdown",
   "metadata": {},
   "source": [
    "### <span style=\"color:dimgray\"> Merging dataset </span>"
   ]
  },
  {
   "cell_type": "code",
   "execution_count": 87,
   "metadata": {},
   "outputs": [
    {
     "data": {
      "text/html": [
       "<div>\n",
       "<style scoped>\n",
       "    .dataframe tbody tr th:only-of-type {\n",
       "        vertical-align: middle;\n",
       "    }\n",
       "\n",
       "    .dataframe tbody tr th {\n",
       "        vertical-align: top;\n",
       "    }\n",
       "\n",
       "    .dataframe thead th {\n",
       "        text-align: right;\n",
       "    }\n",
       "</style>\n",
       "<table border=\"1\" class=\"dataframe\">\n",
       "  <thead>\n",
       "    <tr style=\"text-align: right;\">\n",
       "      <th></th>\n",
       "      <th>leadID</th>\n",
       "      <th>state_18</th>\n",
       "      <th>gender_18</th>\n",
       "      <th>age_18</th>\n",
       "      <th>estimated_household_income_18</th>\n",
       "      <th>cpa_status_18</th>\n",
       "      <th>premium_amount_18</th>\n",
       "      <th>created</th>\n",
       "      <th>max_bid</th>\n",
       "      <th>won</th>\n",
       "    </tr>\n",
       "  </thead>\n",
       "  <tbody>\n",
       "    <tr>\n",
       "      <th>0</th>\n",
       "      <td>4</td>\n",
       "      <td>IL</td>\n",
       "      <td>1</td>\n",
       "      <td>37.00</td>\n",
       "      <td>45000</td>\n",
       "      <td>1.0</td>\n",
       "      <td>700</td>\n",
       "      <td>2017-12-22 16:08:21</td>\n",
       "      <td>22.0</td>\n",
       "      <td>1</td>\n",
       "    </tr>\n",
       "    <tr>\n",
       "      <th>1</th>\n",
       "      <td>30</td>\n",
       "      <td>NY</td>\n",
       "      <td>2</td>\n",
       "      <td>43.35</td>\n",
       "      <td>65000</td>\n",
       "      <td>0.0</td>\n",
       "      <td>0</td>\n",
       "      <td>2018-01-18 16:18:19</td>\n",
       "      <td>4.0</td>\n",
       "      <td>1</td>\n",
       "    </tr>\n",
       "    <tr>\n",
       "      <th>2</th>\n",
       "      <td>120</td>\n",
       "      <td>NY</td>\n",
       "      <td>1</td>\n",
       "      <td>32.96</td>\n",
       "      <td>90000</td>\n",
       "      <td>0.0</td>\n",
       "      <td>0</td>\n",
       "      <td>2018-01-22 16:08:57</td>\n",
       "      <td>5.0</td>\n",
       "      <td>1</td>\n",
       "    </tr>\n",
       "    <tr>\n",
       "      <th>3</th>\n",
       "      <td>258</td>\n",
       "      <td>NY</td>\n",
       "      <td>1</td>\n",
       "      <td>34.82</td>\n",
       "      <td>65000</td>\n",
       "      <td>0.0</td>\n",
       "      <td>0</td>\n",
       "      <td>2018-01-23 17:28:09</td>\n",
       "      <td>5.0</td>\n",
       "      <td>1</td>\n",
       "    </tr>\n",
       "    <tr>\n",
       "      <th>4</th>\n",
       "      <td>266</td>\n",
       "      <td>NY</td>\n",
       "      <td>2</td>\n",
       "      <td>40.35</td>\n",
       "      <td>65000</td>\n",
       "      <td>0.0</td>\n",
       "      <td>0</td>\n",
       "      <td>2018-01-23 18:16:10</td>\n",
       "      <td>6.0</td>\n",
       "      <td>1</td>\n",
       "    </tr>\n",
       "    <tr>\n",
       "      <th>5</th>\n",
       "      <td>348</td>\n",
       "      <td>NY</td>\n",
       "      <td>1</td>\n",
       "      <td>36.00</td>\n",
       "      <td>35000</td>\n",
       "      <td>0.0</td>\n",
       "      <td>0</td>\n",
       "      <td>2018-01-23 22:29:37</td>\n",
       "      <td>4.0</td>\n",
       "      <td>1</td>\n",
       "    </tr>\n",
       "    <tr>\n",
       "      <th>6</th>\n",
       "      <td>354</td>\n",
       "      <td>NY</td>\n",
       "      <td>1</td>\n",
       "      <td>36.69</td>\n",
       "      <td>35000</td>\n",
       "      <td>0.0</td>\n",
       "      <td>0</td>\n",
       "      <td>2018-01-23 22:30:47</td>\n",
       "      <td>4.0</td>\n",
       "      <td>1</td>\n",
       "    </tr>\n",
       "    <tr>\n",
       "      <th>7</th>\n",
       "      <td>360</td>\n",
       "      <td>MA</td>\n",
       "      <td>2</td>\n",
       "      <td>55.02</td>\n",
       "      <td>35000</td>\n",
       "      <td>0.0</td>\n",
       "      <td>0</td>\n",
       "      <td>2018-01-23 22:39:53</td>\n",
       "      <td>4.0</td>\n",
       "      <td>1</td>\n",
       "    </tr>\n",
       "    <tr>\n",
       "      <th>8</th>\n",
       "      <td>370</td>\n",
       "      <td>MA</td>\n",
       "      <td>1</td>\n",
       "      <td>57.89</td>\n",
       "      <td>90000</td>\n",
       "      <td>0.0</td>\n",
       "      <td>0</td>\n",
       "      <td>2018-01-23 22:44:28</td>\n",
       "      <td>4.0</td>\n",
       "      <td>1</td>\n",
       "    </tr>\n",
       "    <tr>\n",
       "      <th>9</th>\n",
       "      <td>382</td>\n",
       "      <td>NY</td>\n",
       "      <td>2</td>\n",
       "      <td>34.89</td>\n",
       "      <td>76000</td>\n",
       "      <td>1.0</td>\n",
       "      <td>554</td>\n",
       "      <td>2018-01-23 22:49:55</td>\n",
       "      <td>3.0</td>\n",
       "      <td>1</td>\n",
       "    </tr>\n",
       "  </tbody>\n",
       "</table>\n",
       "</div>"
      ],
      "text/plain": [
       "   leadID state_18  gender_18  age_18  estimated_household_income_18  \\\n",
       "0       4       IL          1   37.00                          45000   \n",
       "1      30       NY          2   43.35                          65000   \n",
       "2     120       NY          1   32.96                          90000   \n",
       "3     258       NY          1   34.82                          65000   \n",
       "4     266       NY          2   40.35                          65000   \n",
       "5     348       NY          1   36.00                          35000   \n",
       "6     354       NY          1   36.69                          35000   \n",
       "7     360       MA          2   55.02                          35000   \n",
       "8     370       MA          1   57.89                          90000   \n",
       "9     382       NY          2   34.89                          76000   \n",
       "\n",
       "   cpa_status_18  premium_amount_18              created  max_bid  won  \n",
       "0            1.0                700  2017-12-22 16:08:21     22.0    1  \n",
       "1            0.0                  0  2018-01-18 16:18:19      4.0    1  \n",
       "2            0.0                  0  2018-01-22 16:08:57      5.0    1  \n",
       "3            0.0                  0  2018-01-23 17:28:09      5.0    1  \n",
       "4            0.0                  0  2018-01-23 18:16:10      6.0    1  \n",
       "5            0.0                  0  2018-01-23 22:29:37      4.0    1  \n",
       "6            0.0                  0  2018-01-23 22:30:47      4.0    1  \n",
       "7            0.0                  0  2018-01-23 22:39:53      4.0    1  \n",
       "8            0.0                  0  2018-01-23 22:44:28      4.0    1  \n",
       "9            1.0                554  2018-01-23 22:49:55      3.0    1  "
      ]
     },
     "execution_count": 87,
     "metadata": {},
     "output_type": "execute_result"
    }
   ],
   "source": [
    "df = df_leads >> left_join(df_bids, by = \"leadID\")\n",
    "df.head(10)"
   ]
  },
  {
   "cell_type": "markdown",
   "metadata": {},
   "source": [
    "### <span style=\"color:dimgray\"> Abc LLC's current most typical client </span>"
   ]
  },
  {
   "cell_type": "markdown",
   "metadata": {},
   "source": [
    "#### <span style=\"color:darkgray\"> Exploring the dataset </span>"
   ]
  },
  {
   "cell_type": "code",
   "execution_count": 5,
   "metadata": {},
   "outputs": [
    {
     "name": "stdout",
     "output_type": "stream",
     "text": [
      "<class 'pandas.core.frame.DataFrame'>\n",
      "Int64Index: 1360295 entries, 0 to 1360294\n",
      "Data columns (total 10 columns):\n",
      "leadID                           1360295 non-null int64\n",
      "state_18                         1360295 non-null object\n",
      "gender_18                        1360295 non-null int64\n",
      "age_18                           1360295 non-null float64\n",
      "estimated_household_income_18    1360295 non-null int64\n",
      "cpa_status_18                    18788 non-null float64\n",
      "premium_amount_18                1360295 non-null int64\n",
      "created                          1360295 non-null object\n",
      "max_bid                          1360295 non-null float64\n",
      "won                              1360295 non-null int64\n",
      "dtypes: float64(3), int64(5), object(2)\n",
      "memory usage: 114.2+ MB\n"
     ]
    }
   ],
   "source": [
    "# Checking the type of variables\n",
    "df.info()"
   ]
  },
  {
   "cell_type": "code",
   "execution_count": 6,
   "metadata": {},
   "outputs": [
    {
     "data": {
      "text/html": [
       "<div>\n",
       "<style scoped>\n",
       "    .dataframe tbody tr th:only-of-type {\n",
       "        vertical-align: middle;\n",
       "    }\n",
       "\n",
       "    .dataframe tbody tr th {\n",
       "        vertical-align: top;\n",
       "    }\n",
       "\n",
       "    .dataframe thead th {\n",
       "        text-align: right;\n",
       "    }\n",
       "</style>\n",
       "<table border=\"1\" class=\"dataframe\">\n",
       "  <thead>\n",
       "    <tr style=\"text-align: right;\">\n",
       "      <th></th>\n",
       "      <th>leadID</th>\n",
       "      <th>gender_18</th>\n",
       "      <th>age_18</th>\n",
       "      <th>estimated_household_income_18</th>\n",
       "      <th>cpa_status_18</th>\n",
       "      <th>premium_amount_18</th>\n",
       "      <th>max_bid</th>\n",
       "      <th>won</th>\n",
       "    </tr>\n",
       "  </thead>\n",
       "  <tbody>\n",
       "    <tr>\n",
       "      <th>count</th>\n",
       "      <td>1.360295e+06</td>\n",
       "      <td>1.360295e+06</td>\n",
       "      <td>1.360295e+06</td>\n",
       "      <td>1.360295e+06</td>\n",
       "      <td>18788.000000</td>\n",
       "      <td>1.360295e+06</td>\n",
       "      <td>1.360295e+06</td>\n",
       "      <td>1.360295e+06</td>\n",
       "    </tr>\n",
       "    <tr>\n",
       "      <th>mean</th>\n",
       "      <td>7.436914e+06</td>\n",
       "      <td>1.497919e+00</td>\n",
       "      <td>4.566375e+01</td>\n",
       "      <td>6.066725e+04</td>\n",
       "      <td>0.026613</td>\n",
       "      <td>4.736417e+03</td>\n",
       "      <td>4.211519e+00</td>\n",
       "      <td>1.983687e-02</td>\n",
       "    </tr>\n",
       "    <tr>\n",
       "      <th>std</th>\n",
       "      <td>1.477931e+06</td>\n",
       "      <td>4.999959e-01</td>\n",
       "      <td>1.101899e+01</td>\n",
       "      <td>7.513724e+04</td>\n",
       "      <td>0.160953</td>\n",
       "      <td>5.523757e+06</td>\n",
       "      <td>1.824614e+00</td>\n",
       "      <td>1.394395e-01</td>\n",
       "    </tr>\n",
       "    <tr>\n",
       "      <th>min</th>\n",
       "      <td>4.000000e+00</td>\n",
       "      <td>1.000000e+00</td>\n",
       "      <td>1.000000e-01</td>\n",
       "      <td>2.000000e+04</td>\n",
       "      <td>0.000000</td>\n",
       "      <td>0.000000e+00</td>\n",
       "      <td>5.000000e-01</td>\n",
       "      <td>0.000000e+00</td>\n",
       "    </tr>\n",
       "    <tr>\n",
       "      <th>25%</th>\n",
       "      <td>6.412174e+06</td>\n",
       "      <td>1.000000e+00</td>\n",
       "      <td>3.600000e+01</td>\n",
       "      <td>4.000000e+04</td>\n",
       "      <td>0.000000</td>\n",
       "      <td>0.000000e+00</td>\n",
       "      <td>3.200000e+00</td>\n",
       "      <td>0.000000e+00</td>\n",
       "    </tr>\n",
       "    <tr>\n",
       "      <th>50%</th>\n",
       "      <td>7.475701e+06</td>\n",
       "      <td>1.000000e+00</td>\n",
       "      <td>4.600000e+01</td>\n",
       "      <td>5.000000e+04</td>\n",
       "      <td>0.000000</td>\n",
       "      <td>0.000000e+00</td>\n",
       "      <td>4.000000e+00</td>\n",
       "      <td>0.000000e+00</td>\n",
       "    </tr>\n",
       "    <tr>\n",
       "      <th>75%</th>\n",
       "      <td>8.578158e+06</td>\n",
       "      <td>2.000000e+00</td>\n",
       "      <td>5.500000e+01</td>\n",
       "      <td>6.500000e+04</td>\n",
       "      <td>0.000000</td>\n",
       "      <td>0.000000e+00</td>\n",
       "      <td>5.000000e+00</td>\n",
       "      <td>0.000000e+00</td>\n",
       "    </tr>\n",
       "    <tr>\n",
       "      <th>max</th>\n",
       "      <td>1.000259e+07</td>\n",
       "      <td>2.000000e+00</td>\n",
       "      <td>1.159400e+02</td>\n",
       "      <td>1.000000e+06</td>\n",
       "      <td>1.000000</td>\n",
       "      <td>6.442451e+09</td>\n",
       "      <td>3.000000e+01</td>\n",
       "      <td>1.000000e+00</td>\n",
       "    </tr>\n",
       "  </tbody>\n",
       "</table>\n",
       "</div>"
      ],
      "text/plain": [
       "             leadID     gender_18        age_18  \\\n",
       "count  1.360295e+06  1.360295e+06  1.360295e+06   \n",
       "mean   7.436914e+06  1.497919e+00  4.566375e+01   \n",
       "std    1.477931e+06  4.999959e-01  1.101899e+01   \n",
       "min    4.000000e+00  1.000000e+00  1.000000e-01   \n",
       "25%    6.412174e+06  1.000000e+00  3.600000e+01   \n",
       "50%    7.475701e+06  1.000000e+00  4.600000e+01   \n",
       "75%    8.578158e+06  2.000000e+00  5.500000e+01   \n",
       "max    1.000259e+07  2.000000e+00  1.159400e+02   \n",
       "\n",
       "       estimated_household_income_18  cpa_status_18  premium_amount_18  \\\n",
       "count                   1.360295e+06   18788.000000       1.360295e+06   \n",
       "mean                    6.066725e+04       0.026613       4.736417e+03   \n",
       "std                     7.513724e+04       0.160953       5.523757e+06   \n",
       "min                     2.000000e+04       0.000000       0.000000e+00   \n",
       "25%                     4.000000e+04       0.000000       0.000000e+00   \n",
       "50%                     5.000000e+04       0.000000       0.000000e+00   \n",
       "75%                     6.500000e+04       0.000000       0.000000e+00   \n",
       "max                     1.000000e+06       1.000000       6.442451e+09   \n",
       "\n",
       "            max_bid           won  \n",
       "count  1.360295e+06  1.360295e+06  \n",
       "mean   4.211519e+00  1.983687e-02  \n",
       "std    1.824614e+00  1.394395e-01  \n",
       "min    5.000000e-01  0.000000e+00  \n",
       "25%    3.200000e+00  0.000000e+00  \n",
       "50%    4.000000e+00  0.000000e+00  \n",
       "75%    5.000000e+00  0.000000e+00  \n",
       "max    3.000000e+01  1.000000e+00  "
      ]
     },
     "execution_count": 6,
     "metadata": {},
     "output_type": "execute_result"
    }
   ],
   "source": [
    "# Describing continuous variables\n",
    "df.describe()"
   ]
  },
  {
   "cell_type": "code",
   "execution_count": 196,
   "metadata": {},
   "outputs": [
    {
     "data": {
      "text/plain": [
       "leadID                                 0\n",
       "state_18                               0\n",
       "gender_18                              0\n",
       "age_18                                 0\n",
       "estimated_household_income_18          0\n",
       "cpa_status_18                    1341507\n",
       "premium_amount_18                      0\n",
       "created                                0\n",
       "max_bid                                0\n",
       "won                                    0\n",
       "dtype: int64"
      ]
     },
     "execution_count": 196,
     "metadata": {},
     "output_type": "execute_result"
    }
   ],
   "source": [
    "#Missing values computation\n",
    "df.isnull().sum()"
   ]
  },
  {
   "cell_type": "markdown",
   "metadata": {},
   "source": [
    "#### <span style=\"color:darkgray\"> Univariate analysis on closed leads </span>"
   ]
  },
  {
   "cell_type": "code",
   "execution_count": 180,
   "metadata": {},
   "outputs": [],
   "source": [
    "df_closed = df >> mask(X.cpa_status_18 == 1)"
   ]
  },
  {
   "cell_type": "code",
   "execution_count": 181,
   "metadata": {},
   "outputs": [
    {
     "data": {
      "text/plain": [
       "leadID                             int64\n",
       "state_18                          object\n",
       "gender_18                          int64\n",
       "age_18                           float64\n",
       "estimated_household_income_18      int64\n",
       "cpa_status_18                    float64\n",
       "premium_amount_18                  int64\n",
       "created                           object\n",
       "max_bid                          float64\n",
       "won                                int64\n",
       "dtype: object"
      ]
     },
     "execution_count": 181,
     "metadata": {},
     "output_type": "execute_result"
    }
   ],
   "source": [
    "df_closed.dtypes"
   ]
  },
  {
   "cell_type": "code",
   "execution_count": 182,
   "metadata": {},
   "outputs": [
    {
     "data": {
      "text/html": [
       "<div>\n",
       "<style scoped>\n",
       "    .dataframe tbody tr th:only-of-type {\n",
       "        vertical-align: middle;\n",
       "    }\n",
       "\n",
       "    .dataframe tbody tr th {\n",
       "        vertical-align: top;\n",
       "    }\n",
       "\n",
       "    .dataframe thead th {\n",
       "        text-align: right;\n",
       "    }\n",
       "</style>\n",
       "<table border=\"1\" class=\"dataframe\">\n",
       "  <thead>\n",
       "    <tr style=\"text-align: right;\">\n",
       "      <th></th>\n",
       "      <th>leadID</th>\n",
       "      <th>gender_18</th>\n",
       "      <th>age_18</th>\n",
       "      <th>estimated_household_income_18</th>\n",
       "      <th>cpa_status_18</th>\n",
       "      <th>premium_amount_18</th>\n",
       "      <th>max_bid</th>\n",
       "      <th>won</th>\n",
       "    </tr>\n",
       "  </thead>\n",
       "  <tbody>\n",
       "    <tr>\n",
       "      <th>count</th>\n",
       "      <td>5.000000e+02</td>\n",
       "      <td>500.000000</td>\n",
       "      <td>500.000000</td>\n",
       "      <td>500.000000</td>\n",
       "      <td>500.0</td>\n",
       "      <td>5.000000e+02</td>\n",
       "      <td>500.000000</td>\n",
       "      <td>500.0</td>\n",
       "    </tr>\n",
       "    <tr>\n",
       "      <th>mean</th>\n",
       "      <td>1.972253e+06</td>\n",
       "      <td>1.458000</td>\n",
       "      <td>44.640020</td>\n",
       "      <td>60412.302000</td>\n",
       "      <td>1.0</td>\n",
       "      <td>1.288585e+07</td>\n",
       "      <td>10.286160</td>\n",
       "      <td>1.0</td>\n",
       "    </tr>\n",
       "    <tr>\n",
       "      <th>std</th>\n",
       "      <td>2.439044e+06</td>\n",
       "      <td>0.498732</td>\n",
       "      <td>12.468135</td>\n",
       "      <td>45353.694216</td>\n",
       "      <td>0.0</td>\n",
       "      <td>2.881151e+08</td>\n",
       "      <td>4.792513</td>\n",
       "      <td>0.0</td>\n",
       "    </tr>\n",
       "    <tr>\n",
       "      <th>min</th>\n",
       "      <td>4.000000e+00</td>\n",
       "      <td>1.000000</td>\n",
       "      <td>22.820000</td>\n",
       "      <td>20000.000000</td>\n",
       "      <td>1.0</td>\n",
       "      <td>0.000000e+00</td>\n",
       "      <td>1.500000</td>\n",
       "      <td>1.0</td>\n",
       "    </tr>\n",
       "    <tr>\n",
       "      <th>25%</th>\n",
       "      <td>2.735450e+05</td>\n",
       "      <td>1.000000</td>\n",
       "      <td>32.245000</td>\n",
       "      <td>40000.000000</td>\n",
       "      <td>1.0</td>\n",
       "      <td>5.022500e+02</td>\n",
       "      <td>6.500000</td>\n",
       "      <td>1.0</td>\n",
       "    </tr>\n",
       "    <tr>\n",
       "      <th>50%</th>\n",
       "      <td>1.291555e+06</td>\n",
       "      <td>1.000000</td>\n",
       "      <td>46.120000</td>\n",
       "      <td>48000.000000</td>\n",
       "      <td>1.0</td>\n",
       "      <td>8.410000e+02</td>\n",
       "      <td>10.000000</td>\n",
       "      <td>1.0</td>\n",
       "    </tr>\n",
       "    <tr>\n",
       "      <th>75%</th>\n",
       "      <td>2.169809e+06</td>\n",
       "      <td>2.000000</td>\n",
       "      <td>56.460000</td>\n",
       "      <td>65500.000000</td>\n",
       "      <td>1.0</td>\n",
       "      <td>1.311750e+03</td>\n",
       "      <td>12.500000</td>\n",
       "      <td>1.0</td>\n",
       "    </tr>\n",
       "    <tr>\n",
       "      <th>max</th>\n",
       "      <td>9.956599e+06</td>\n",
       "      <td>2.000000</td>\n",
       "      <td>64.220000</td>\n",
       "      <td>750000.000000</td>\n",
       "      <td>1.0</td>\n",
       "      <td>6.442451e+09</td>\n",
       "      <td>28.000000</td>\n",
       "      <td>1.0</td>\n",
       "    </tr>\n",
       "  </tbody>\n",
       "</table>\n",
       "</div>"
      ],
      "text/plain": [
       "             leadID   gender_18      age_18  estimated_household_income_18  \\\n",
       "count  5.000000e+02  500.000000  500.000000                     500.000000   \n",
       "mean   1.972253e+06    1.458000   44.640020                   60412.302000   \n",
       "std    2.439044e+06    0.498732   12.468135                   45353.694216   \n",
       "min    4.000000e+00    1.000000   22.820000                   20000.000000   \n",
       "25%    2.735450e+05    1.000000   32.245000                   40000.000000   \n",
       "50%    1.291555e+06    1.000000   46.120000                   48000.000000   \n",
       "75%    2.169809e+06    2.000000   56.460000                   65500.000000   \n",
       "max    9.956599e+06    2.000000   64.220000                  750000.000000   \n",
       "\n",
       "       cpa_status_18  premium_amount_18     max_bid    won  \n",
       "count          500.0       5.000000e+02  500.000000  500.0  \n",
       "mean             1.0       1.288585e+07   10.286160    1.0  \n",
       "std              0.0       2.881151e+08    4.792513    0.0  \n",
       "min              1.0       0.000000e+00    1.500000    1.0  \n",
       "25%              1.0       5.022500e+02    6.500000    1.0  \n",
       "50%              1.0       8.410000e+02   10.000000    1.0  \n",
       "75%              1.0       1.311750e+03   12.500000    1.0  \n",
       "max              1.0       6.442451e+09   28.000000    1.0  "
      ]
     },
     "execution_count": 182,
     "metadata": {},
     "output_type": "execute_result"
    }
   ],
   "source": [
    "df_closed.describe()"
   ]
  },
  {
   "cell_type": "code",
   "execution_count": 183,
   "metadata": {},
   "outputs": [
    {
     "data": {
      "image/png": "[encoded data removed]",
      "text/plain": [
       "<Figure size 432x288 with 1 Axes>"
      ]
     },
     "metadata": {
      "needs_background": "light"
     },
     "output_type": "display_data"
    }
   ],
   "source": [
    "# Distribution of gender \n",
    "sns.countplot(x='gender_18', data=df_closed, palette=\"BuPu\")\n",
    "plt.title('Distribution of Gender')"
   ]
  },
  {
   "cell_type": "code",
   "execution_count": 184,
   "metadata": {},
   "outputs": [
    {
     "data": {
      "text/plain": [
       "<matplotlib.axes._subplots.AxesSubplot at 0x1d05cd26780>"
      ]
     },
     "execution_count": 184,
     "metadata": {},
     "output_type": "execute_result"
    },
    {
     "data": {
      "image/png": "[encoded data removed]",
      "text/plain": [
       "<Figure size 432x288 with 1 Axes>"
      ]
     },
     "metadata": {
      "needs_background": "light"
     },
     "output_type": "display_data"
    }
   ],
   "source": [
    "sns.boxplot(x=\"age_18\", data=df_closed, orient=\"v\", palette=\"BuPu\")"
   ]
  },
  {
   "cell_type": "code",
   "execution_count": 185,
   "metadata": {},
   "outputs": [
    {
     "data": {
      "text/plain": [
       "Text(0.5, 0, 'Age')"
      ]
     },
     "execution_count": 185,
     "metadata": {},
     "output_type": "execute_result"
    },
    {
     "data": {
      "image/png": "[encoded data removed]",
      "text/plain": [
       "<Figure size 432x288 with 1 Axes>"
      ]
     },
     "metadata": {
      "needs_background": "light"
     },
     "output_type": "display_data"
    }
   ],
   "source": [
    "# Distribution of ages\n",
    "\n",
    "df_closed.hist('age_18', bins=30)\n",
    "plt.title('Distribution of Age')\n",
    "plt.xlabel('Age')"
   ]
  },
  {
   "cell_type": "code",
   "execution_count": 195,
   "metadata": {},
   "outputs": [
    {
     "data": {
      "text/plain": [
       "<matplotlib.axes._subplots.AxesSubplot at 0x1d05d0c52e8>"
      ]
     },
     "execution_count": 195,
     "metadata": {},
     "output_type": "execute_result"
    },
    {
     "data": {
      "image/png": "[encoded data removed]",
      "text/plain": [
       "<Figure size 432x288 with 1 Axes>"
      ]
     },
     "metadata": {
      "needs_background": "light"
     },
     "output_type": "display_data"
    }
   ],
   "source": [
    "sns.boxplot(x=\"estimated_household_income_18\", data=df_closed, orient=\"v\", palette=\"BuPu\")"
   ]
  },
  {
   "cell_type": "code",
   "execution_count": 188,
   "metadata": {},
   "outputs": [],
   "source": [
    "#Excluding the outlier case \n",
    "df_closed = df_closed >> mask(X.estimated_household_income_18 < 250000)"
   ]
  },
  {
   "cell_type": "code",
   "execution_count": 189,
   "metadata": {},
   "outputs": [
    {
     "data": {
      "text/plain": [
       "Text(0.5, 0, 'HH Income')"
      ]
     },
     "execution_count": 189,
     "metadata": {},
     "output_type": "execute_result"
    },
    {
     "data": {
      "image/png": "[encoded data removed]",
      "text/plain": [
       "<Figure size 432x288 with 1 Axes>"
      ]
     },
     "metadata": {
      "needs_background": "light"
     },
     "output_type": "display_data"
    }
   ],
   "source": [
    "df_closed.hist('estimated_household_income_18', bins=20)\n",
    "plt.title('Distribution of HH Income')\n",
    "plt.xlabel('HH Income')"
   ]
  },
  {
   "cell_type": "code",
   "execution_count": 190,
   "metadata": {},
   "outputs": [
    {
     "data": {
      "text/plain": [
       "<matplotlib.axes._subplots.AxesSubplot at 0x1d05ceec320>"
      ]
     },
     "execution_count": 190,
     "metadata": {},
     "output_type": "execute_result"
    },
    {
     "data": {
      "image/png": "[encoded data removed]",
      "text/plain": [
       "<Figure size 432x288 with 1 Axes>"
      ]
     },
     "metadata": {
      "needs_background": "light"
     },
     "output_type": "display_data"
    }
   ],
   "source": [
    "sns.boxplot(x=\"premium_amount_18\", data=df_closed, orient=\"v\", palette=\"BuPu\")"
   ]
  },
  {
   "cell_type": "code",
   "execution_count": 191,
   "metadata": {},
   "outputs": [],
   "source": [
    "#Excluding the outlier case \n",
    "df_closed = df_closed >> mask(X.premium_amount_18 < max(df_closed['premium_amount_18'])) "
   ]
  },
  {
   "cell_type": "code",
   "execution_count": 194,
   "metadata": {},
   "outputs": [
    {
     "data": {
      "text/plain": [
       "Text(0.5, 0, 'Contract Value')"
      ]
     },
     "execution_count": 194,
     "metadata": {},
     "output_type": "execute_result"
    },
    {
     "data": {
      "image/png": "[encoded data removed]",
      "text/plain": [
       "<Figure size 432x288 with 1 Axes>"
      ]
     },
     "metadata": {
      "needs_background": "light"
     },
     "output_type": "display_data"
    }
   ],
   "source": [
    "df_closed = df_closed >> mask(X.premium_amount_18 > 0) \n",
    "\n",
    "df_closed.hist(column='premium_amount_18', bins=25)\n",
    "plt.title('Value of the contract')\n",
    "plt.xlabel('Contract Value')\n"
   ]
  },
  {
   "cell_type": "code",
   "execution_count": 172,
   "metadata": {},
   "outputs": [
    {
     "data": {
      "text/plain": [
       "<matplotlib.axes._subplots.AxesSubplot at 0x1d03cd09a90>"
      ]
     },
     "execution_count": 172,
     "metadata": {},
     "output_type": "execute_result"
    },
    {
     "data": {
      "image/png": "[encoded data removed]",
      "text/plain": [
       "<Figure size 432x288 with 1 Axes>"
      ]
     },
     "metadata": {
      "needs_background": "light"
     },
     "output_type": "display_data"
    }
   ],
   "source": []
  },
  {
   "cell_type": "code",
   "execution_count": 229,
   "metadata": {},
   "outputs": [
    {
     "data": {
      "text/plain": [
       "<Figure size 1152x1152 with 0 Axes>"
      ]
     },
     "metadata": {},
     "output_type": "display_data"
    },
    {
     "data": {
      "image/png": "[encoded data removed]",
      "text/plain": [
       "<Figure size 720x504 with 1 Axes>"
      ]
     },
     "metadata": {
      "needs_background": "light"
     },
     "output_type": "display_data"
    }
   ],
   "source": [
    "# Distribution of closed leads by states \n",
    "df_state = df_closed >> group_by(X.state_18, X.gender_18) >> summarize(N=n(X.leadID))\n",
    "\n",
    "\n",
    "plt.figure(figsize=(16, 16))\n",
    "g = sns.catplot(x='state_18', y='N', hue='gender_18', data=df_state, palette=\"BuPu\", kind='bar', legend=False)\n",
    "plt.title('Distribution of leads by states')\n",
    "plt.legend(title='Gender', loc='upper left', labels=['Male', 'Female'])\n",
    "g.fig.set_figwidth(10)\n",
    "g.fig.set_figheight(7)"
   ]
  },
  {
   "cell_type": "code",
   "execution_count": 10,
   "metadata": {},
   "outputs": [
    {
     "data": {
      "text/html": [
       "<div>\n",
       "<style scoped>\n",
       "    .dataframe tbody tr th:only-of-type {\n",
       "        vertical-align: middle;\n",
       "    }\n",
       "\n",
       "    .dataframe tbody tr th {\n",
       "        vertical-align: top;\n",
       "    }\n",
       "\n",
       "    .dataframe thead th {\n",
       "        text-align: right;\n",
       "    }\n",
       "</style>\n",
       "<table border=\"1\" class=\"dataframe\">\n",
       "  <thead>\n",
       "    <tr style=\"text-align: right;\">\n",
       "      <th></th>\n",
       "      <th>state_18</th>\n",
       "      <th>gender_18</th>\n",
       "      <th>age</th>\n",
       "      <th>income</th>\n",
       "      <th>contr_size</th>\n",
       "    </tr>\n",
       "  </thead>\n",
       "  <tbody>\n",
       "    <tr>\n",
       "      <th>0</th>\n",
       "      <td>CA</td>\n",
       "      <td>1</td>\n",
       "      <td>56.460000</td>\n",
       "      <td>46001.000000</td>\n",
       "      <td>1.667000e+03</td>\n",
       "    </tr>\n",
       "    <tr>\n",
       "      <th>1</th>\n",
       "      <td>CT</td>\n",
       "      <td>1</td>\n",
       "      <td>42.443333</td>\n",
       "      <td>61667.000000</td>\n",
       "      <td>2.166333e+03</td>\n",
       "    </tr>\n",
       "    <tr>\n",
       "      <th>2</th>\n",
       "      <td>FL</td>\n",
       "      <td>1</td>\n",
       "      <td>62.405000</td>\n",
       "      <td>40400.000000</td>\n",
       "      <td>8.275000e+02</td>\n",
       "    </tr>\n",
       "    <tr>\n",
       "      <th>3</th>\n",
       "      <td>IL</td>\n",
       "      <td>1</td>\n",
       "      <td>54.250000</td>\n",
       "      <td>64250.000000</td>\n",
       "      <td>1.572750e+03</td>\n",
       "    </tr>\n",
       "    <tr>\n",
       "      <th>4</th>\n",
       "      <td>MA</td>\n",
       "      <td>1</td>\n",
       "      <td>44.400000</td>\n",
       "      <td>64125.897959</td>\n",
       "      <td>1.067531e+03</td>\n",
       "    </tr>\n",
       "    <tr>\n",
       "      <th>5</th>\n",
       "      <td>MI</td>\n",
       "      <td>1</td>\n",
       "      <td>56.000000</td>\n",
       "      <td>47001.000000</td>\n",
       "      <td>1.651000e+03</td>\n",
       "    </tr>\n",
       "    <tr>\n",
       "      <th>6</th>\n",
       "      <td>MN</td>\n",
       "      <td>1</td>\n",
       "      <td>58.500000</td>\n",
       "      <td>65159.000000</td>\n",
       "      <td>2.207000e+03</td>\n",
       "    </tr>\n",
       "    <tr>\n",
       "      <th>7</th>\n",
       "      <td>NC</td>\n",
       "      <td>1</td>\n",
       "      <td>32.000000</td>\n",
       "      <td>48000.000000</td>\n",
       "      <td>7.730000e+02</td>\n",
       "    </tr>\n",
       "    <tr>\n",
       "      <th>8</th>\n",
       "      <td>NJ</td>\n",
       "      <td>1</td>\n",
       "      <td>44.779130</td>\n",
       "      <td>63972.173913</td>\n",
       "      <td>8.340870e+02</td>\n",
       "    </tr>\n",
       "    <tr>\n",
       "      <th>9</th>\n",
       "      <td>NY</td>\n",
       "      <td>1</td>\n",
       "      <td>42.226311</td>\n",
       "      <td>55536.073770</td>\n",
       "      <td>8.811393e+02</td>\n",
       "    </tr>\n",
       "    <tr>\n",
       "      <th>10</th>\n",
       "      <td>OH</td>\n",
       "      <td>1</td>\n",
       "      <td>63.830000</td>\n",
       "      <td>46000.000000</td>\n",
       "      <td>2.640000e+02</td>\n",
       "    </tr>\n",
       "    <tr>\n",
       "      <th>11</th>\n",
       "      <td>WA</td>\n",
       "      <td>1</td>\n",
       "      <td>45.200000</td>\n",
       "      <td>72616.129032</td>\n",
       "      <td>9.721774e+02</td>\n",
       "    </tr>\n",
       "    <tr>\n",
       "      <th>12</th>\n",
       "      <td>CA</td>\n",
       "      <td>2</td>\n",
       "      <td>54.745714</td>\n",
       "      <td>56171.571429</td>\n",
       "      <td>1.061857e+03</td>\n",
       "    </tr>\n",
       "    <tr>\n",
       "      <th>13</th>\n",
       "      <td>CT</td>\n",
       "      <td>2</td>\n",
       "      <td>38.816000</td>\n",
       "      <td>52200.200000</td>\n",
       "      <td>7.498000e+02</td>\n",
       "    </tr>\n",
       "    <tr>\n",
       "      <th>14</th>\n",
       "      <td>FL</td>\n",
       "      <td>2</td>\n",
       "      <td>55.551667</td>\n",
       "      <td>60606.000000</td>\n",
       "      <td>1.717167e+03</td>\n",
       "    </tr>\n",
       "    <tr>\n",
       "      <th>15</th>\n",
       "      <td>GA</td>\n",
       "      <td>2</td>\n",
       "      <td>47.000000</td>\n",
       "      <td>64500.000000</td>\n",
       "      <td>1.920000e+03</td>\n",
       "    </tr>\n",
       "    <tr>\n",
       "      <th>16</th>\n",
       "      <td>IN</td>\n",
       "      <td>2</td>\n",
       "      <td>58.000000</td>\n",
       "      <td>55000.000000</td>\n",
       "      <td>2.400000e+02</td>\n",
       "    </tr>\n",
       "    <tr>\n",
       "      <th>17</th>\n",
       "      <td>MA</td>\n",
       "      <td>2</td>\n",
       "      <td>39.119429</td>\n",
       "      <td>50721.085714</td>\n",
       "      <td>6.554000e+02</td>\n",
       "    </tr>\n",
       "    <tr>\n",
       "      <th>18</th>\n",
       "      <td>NC</td>\n",
       "      <td>2</td>\n",
       "      <td>52.000000</td>\n",
       "      <td>40800.000000</td>\n",
       "      <td>8.980000e+02</td>\n",
       "    </tr>\n",
       "    <tr>\n",
       "      <th>19</th>\n",
       "      <td>NJ</td>\n",
       "      <td>2</td>\n",
       "      <td>48.985833</td>\n",
       "      <td>62341.666667</td>\n",
       "      <td>5.368721e+08</td>\n",
       "    </tr>\n",
       "    <tr>\n",
       "      <th>20</th>\n",
       "      <td>NY</td>\n",
       "      <td>2</td>\n",
       "      <td>44.312019</td>\n",
       "      <td>59401.173077</td>\n",
       "      <td>9.755865e+02</td>\n",
       "    </tr>\n",
       "    <tr>\n",
       "      <th>21</th>\n",
       "      <td>PA</td>\n",
       "      <td>2</td>\n",
       "      <td>57.480000</td>\n",
       "      <td>45000.000000</td>\n",
       "      <td>2.530000e+02</td>\n",
       "    </tr>\n",
       "    <tr>\n",
       "      <th>22</th>\n",
       "      <td>SC</td>\n",
       "      <td>2</td>\n",
       "      <td>55.160000</td>\n",
       "      <td>62000.000000</td>\n",
       "      <td>1.502000e+03</td>\n",
       "    </tr>\n",
       "    <tr>\n",
       "      <th>23</th>\n",
       "      <td>TX</td>\n",
       "      <td>2</td>\n",
       "      <td>59.160000</td>\n",
       "      <td>52500.500000</td>\n",
       "      <td>6.065000e+02</td>\n",
       "    </tr>\n",
       "    <tr>\n",
       "      <th>24</th>\n",
       "      <td>VA</td>\n",
       "      <td>2</td>\n",
       "      <td>24.850000</td>\n",
       "      <td>50000.000000</td>\n",
       "      <td>1.464000e+03</td>\n",
       "    </tr>\n",
       "    <tr>\n",
       "      <th>25</th>\n",
       "      <td>WA</td>\n",
       "      <td>2</td>\n",
       "      <td>47.637885</td>\n",
       "      <td>64109.634615</td>\n",
       "      <td>8.330000e+02</td>\n",
       "    </tr>\n",
       "  </tbody>\n",
       "</table>\n",
       "</div>"
      ],
      "text/plain": [
       "   state_18  gender_18        age        income    contr_size\n",
       "0        CA          1  56.460000  46001.000000  1.667000e+03\n",
       "1        CT          1  42.443333  61667.000000  2.166333e+03\n",
       "2        FL          1  62.405000  40400.000000  8.275000e+02\n",
       "3        IL          1  54.250000  64250.000000  1.572750e+03\n",
       "4        MA          1  44.400000  64125.897959  1.067531e+03\n",
       "5        MI          1  56.000000  47001.000000  1.651000e+03\n",
       "6        MN          1  58.500000  65159.000000  2.207000e+03\n",
       "7        NC          1  32.000000  48000.000000  7.730000e+02\n",
       "8        NJ          1  44.779130  63972.173913  8.340870e+02\n",
       "9        NY          1  42.226311  55536.073770  8.811393e+02\n",
       "10       OH          1  63.830000  46000.000000  2.640000e+02\n",
       "11       WA          1  45.200000  72616.129032  9.721774e+02\n",
       "12       CA          2  54.745714  56171.571429  1.061857e+03\n",
       "13       CT          2  38.816000  52200.200000  7.498000e+02\n",
       "14       FL          2  55.551667  60606.000000  1.717167e+03\n",
       "15       GA          2  47.000000  64500.000000  1.920000e+03\n",
       "16       IN          2  58.000000  55000.000000  2.400000e+02\n",
       "17       MA          2  39.119429  50721.085714  6.554000e+02\n",
       "18       NC          2  52.000000  40800.000000  8.980000e+02\n",
       "19       NJ          2  48.985833  62341.666667  5.368721e+08\n",
       "20       NY          2  44.312019  59401.173077  9.755865e+02\n",
       "21       PA          2  57.480000  45000.000000  2.530000e+02\n",
       "22       SC          2  55.160000  62000.000000  1.502000e+03\n",
       "23       TX          2  59.160000  52500.500000  6.065000e+02\n",
       "24       VA          2  24.850000  50000.000000  1.464000e+03\n",
       "25       WA          2  47.637885  64109.634615  8.330000e+02"
      ]
     },
     "execution_count": 10,
     "metadata": {},
     "output_type": "execute_result"
    }
   ],
   "source": [
    "df >> mask(X.cpa_status_18 == 1) >> group_by(X.gender_18, X.state_18) >> summarize(age = X.age_18.mean(), income = X.estimated_household_income_18.mean(), contr_size = X.premium_amount_18.mean())"
   ]
  }
 ],
 "metadata": {
  "kernelspec": {
   "display_name": "Python 3",
   "language": "python",
   "name": "python3"
  },
  "language_info": {
   "codemirror_mode": {
    "name": "ipython",
    "version": 3
   },
   "file_extension": ".py",
   "mimetype": "text/x-python",
   "name": "python",
   "nbconvert_exporter": "python",
   "pygments_lexer": "ipython3",
   "version": "3.7.1"
  }
 },
 "nbformat": 4,
 "nbformat_minor": 2
}
